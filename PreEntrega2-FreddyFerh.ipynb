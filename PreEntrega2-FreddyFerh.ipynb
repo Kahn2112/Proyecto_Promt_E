{
 "cells": [
  {
   "cell_type": "markdown",
   "id": "d1789fa7-c200-4623-838e-02e620493db6",
   "metadata": {},
   "source": [
    "# GENERADOR DE COMICS"
   ]
  },
  {
   "cell_type": "markdown",
   "id": "38c73e9a-36a0-4d5e-92e0-23b81231c8bd",
   "metadata": {},
   "source": [
    "## Presentación del problema"
   ]
  },
  {
   "cell_type": "markdown",
   "id": "3d5eca94-54fd-4c4e-9876-ce9c6e6584f8",
   "metadata": {},
   "source": [
    "Hoye en día, muchas personas tienen habilidades creativas para presentar historias muy interesantes, pero no todos tienen las habilidades de dibujo necesarias para crear comics. Esto muchas veces hace que los creativos, al no conocer a alguien que les ayude con las ilustraciones, desistan de su deseo de crear historias que se puedan plasmar en comics.\n",
    "\n",
    "Para esto crearemos un generador de comics cortos que sea capaz de: crear, refinar o mejorar el personaje principal en base a características resaltantes y de crear las ilustraciones necesarias"
   ]
  },
  {
   "cell_type": "markdown",
   "id": "15011c17-caae-45ab-9b64-dff4c65c0ab7",
   "metadata": {},
   "source": [
    "## Desarrollo de la propuesta de solución"
   ]
  },
  {
   "cell_type": "markdown",
   "id": "83264d20-ead5-4919-be69-5eebf6145da4",
   "metadata": {},
   "source": [
    "Por medio de la generación de prompts, y utilizando modelos de IA podemos crear historias partiendo de ideas principales (modelo texto a texto), así como también ilustraciones (modelo texto a imagen)"
   ]
  },
  {
   "cell_type": "markdown",
   "id": "cbd7ae2f-da98-4bb3-bd62-e6c8e1908183",
   "metadata": {},
   "source": [
    "## Justificación de la viabilidad del proyecto"
   ]
  },
  {
   "cell_type": "markdown",
   "id": "d6b13f70-216f-4d4e-ac0c-3373388d7c2b",
   "metadata": {},
   "source": [
    "Debido a la alta demanda de contenido que hay hoy en día, es factible realizar este proyecto que puede ser utilizado por múltiples personas creativas. Con el tiempo que se tiene en este curso se considera que es suficiente para poder poner en practica este excelente proyecto.\n",
    "\n",
    "A continuación, iniciamos con el desarrollo del proyecto"
   ]
  },
  {
   "cell_type": "markdown",
   "id": "cf773092-9318-4210-86ac-d96591137b00",
   "metadata": {},
   "source": [
    "# OBJETIVOS"
   ]
  },
  {
   "cell_type": "markdown",
   "id": "006b4d38-75ea-4675-b2ba-a76910d30800",
   "metadata": {},
   "source": [
    "* Escoger el metodo de prompting a utilizar\n",
    "* Generar el código para crear personajes e historia\n",
    "* Generar el código para crear las imágenes de la historia\n",
    "* Implementar el código generado"
   ]
  },
  {
   "cell_type": "markdown",
   "id": "ff905f7a-0a8c-4632-b227-e0f67541b75a",
   "metadata": {},
   "source": [
    "# METODOLOGIA"
   ]
  },
  {
   "cell_type": "markdown",
   "id": "cadbfe37-efa1-41e4-b4d9-7c479124f29d",
   "metadata": {},
   "source": [
    "El presente proyecto se ejecutará por medio de un jupyter notebook, conectando con la API de OpenAI por medio de su libreria y una API Key.\n",
    "Haremos uso de la metodología One Shot Prompting, donde se proporciona una muestra de entrenamiento para obtener un resultado específico.\n",
    "\n",
    "Usaremos este método para que el usuario ingrese las características más resaltantes del personaje principal, y en base a esto, crear los demás personajes y la historia"
   ]
  },
  {
   "cell_type": "markdown",
   "id": "6df3634f-ac1d-40f1-9e6e-13b05b183664",
   "metadata": {},
   "source": [
    "# HERRAMIENTAS Y TECNOLOGIAS"
   ]
  },
  {
   "cell_type": "markdown",
   "id": "33ec724e-a9db-4f95-a386-aaca0acb3ece",
   "metadata": {},
   "source": [
    "Utilizaremos el entorno jupyter notebook, desde anaconda para crear el código necesario, ya que es la manera más comoda de probar y testear línea por línea el código. Se hará uso de la libreria de OpenAI, por medio de conexión a la API de la inteligencia artifical mencionada"
   ]
  },
  {
   "cell_type": "markdown",
   "id": "a4ea8960-4dc4-4ef8-8577-33ce07d77e1e",
   "metadata": {},
   "source": [
    "# IMPLEMENTACION"
   ]
  },
  {
   "cell_type": "markdown",
   "id": "88c88f19-19d7-4990-9797-b162e47d6ae4",
   "metadata": {},
   "source": [
    "## Importamos la libreria OpenAI"
   ]
  },
  {
   "cell_type": "code",
   "execution_count": 1,
   "id": "7ddbb820-a223-4f03-af4d-d9d0b92dfa87",
   "metadata": {},
   "outputs": [
    {
     "name": "stdout",
     "output_type": "stream",
     "text": [
      "Collecting openai==0.28\n",
      "  Using cached openai-0.28.0-py3-none-any.whl.metadata (13 kB)\n",
      "Requirement already satisfied: requests>=2.20 in c:\\users\\freddy\\anaconda3\\lib\\site-packages (from openai==0.28) (2.31.0)\n",
      "Requirement already satisfied: tqdm in c:\\users\\freddy\\anaconda3\\lib\\site-packages (from openai==0.28) (4.65.0)\n",
      "Requirement already satisfied: aiohttp in c:\\users\\freddy\\anaconda3\\lib\\site-packages (from openai==0.28) (3.9.3)\n",
      "Requirement already satisfied: charset-normalizer<4,>=2 in c:\\users\\freddy\\anaconda3\\lib\\site-packages (from requests>=2.20->openai==0.28) (2.0.4)\n",
      "Requirement already satisfied: idna<4,>=2.5 in c:\\users\\freddy\\anaconda3\\lib\\site-packages (from requests>=2.20->openai==0.28) (3.4)\n",
      "Requirement already satisfied: urllib3<3,>=1.21.1 in c:\\users\\freddy\\anaconda3\\lib\\site-packages (from requests>=2.20->openai==0.28) (2.0.7)\n",
      "Requirement already satisfied: certifi>=2017.4.17 in c:\\users\\freddy\\anaconda3\\lib\\site-packages (from requests>=2.20->openai==0.28) (2024.2.2)\n",
      "Requirement already satisfied: aiosignal>=1.1.2 in c:\\users\\freddy\\anaconda3\\lib\\site-packages (from aiohttp->openai==0.28) (1.2.0)\n",
      "Requirement already satisfied: attrs>=17.3.0 in c:\\users\\freddy\\anaconda3\\lib\\site-packages (from aiohttp->openai==0.28) (23.1.0)\n",
      "Requirement already satisfied: frozenlist>=1.1.1 in c:\\users\\freddy\\anaconda3\\lib\\site-packages (from aiohttp->openai==0.28) (1.4.0)\n",
      "Requirement already satisfied: multidict<7.0,>=4.5 in c:\\users\\freddy\\anaconda3\\lib\\site-packages (from aiohttp->openai==0.28) (6.0.4)\n",
      "Requirement already satisfied: yarl<2.0,>=1.0 in c:\\users\\freddy\\anaconda3\\lib\\site-packages (from aiohttp->openai==0.28) (1.9.3)\n",
      "Requirement already satisfied: colorama in c:\\users\\freddy\\anaconda3\\lib\\site-packages (from tqdm->openai==0.28) (0.4.6)\n",
      "Using cached openai-0.28.0-py3-none-any.whl (76 kB)\n",
      "Installing collected packages: openai\n",
      "Successfully installed openai-0.28.0\n"
     ]
    }
   ],
   "source": [
    "!pip install openai==0.28"
   ]
  },
  {
   "cell_type": "code",
   "execution_count": 3,
   "id": "47b581b1-e72f-41e1-b14a-87c488bb0549",
   "metadata": {},
   "outputs": [],
   "source": [
    "import openai "
   ]
  },
  {
   "cell_type": "markdown",
   "id": "de610aa7-25e7-42fa-a530-0f3a2ebbdf32",
   "metadata": {},
   "source": [
    "## Guardamos la API key en un archivo para luego asignarla mediante el comando de la libreria OpenAI"
   ]
  },
  {
   "cell_type": "code",
   "execution_count": 4,
   "id": "9f670ce1-a1e1-4405-a026-f8e192b95912",
   "metadata": {},
   "outputs": [],
   "source": [
    "archivo = open(\"API.txt\")\n",
    "key = archivo.read()"
   ]
  },
  {
   "cell_type": "code",
   "execution_count": 5,
   "id": "05203b4d-f423-4f66-bc37-4d506e700f0b",
   "metadata": {},
   "outputs": [],
   "source": [
    "openai.api_key = key"
   ]
  },
  {
   "cell_type": "code",
   "execution_count": 9,
   "id": "f1a562a9-8623-4ab4-bb85-9347fa493812",
   "metadata": {},
   "outputs": [
    {
     "name": "stdin",
     "output_type": "stream",
     "text": [
      "Describe las caracteristicas esenciales del personaje principal: El personaje principal es de color blanco, alto y con capacidades avanzadas de resolución de temas policiales. Adicionalmente tiene habilidades para persuadir a las personas\n",
      "Agrega parámetros para personajes o para la historia:  La historia debe ser un comic corto de aproximademente 500 palabras, la historia se refiere a un detective que resuelve crimenes en una pequeña ciudad del este de Canadá\n"
     ]
    },
    {
     "name": "stdout",
     "output_type": "stream",
     "text": [
      "________________________________________________________________________________\n",
      "En una pequeña ciudad del este de Canadá, el detective blanco y alto conocido como Jake White se encontraba investigando un misterioso caso de asesinato. La víctima era un adinerado empresario local, y las pistas eran escasas.\n",
      "\n",
      "Jake se adentró en el oscuro y estrecho callejón donde se había encontrado el cadáver y comenzó a examinar detenidamente cada rincón en busca de pistas. Con sus habilidades de resolución de casos policiales avanzadas, pronto descubrió un pequeño pedazo de papel enrolado cerca de la escena del crimen.\n",
      "\n",
      "Al desenrollarlo, Jake se percató de que se trataba de un mensaje en clave que lo llevó a un bar abandonado en las afueras de la ciudad. Al llegar al lugar, el detective se encontró con un grupo de sospechosos que rápidamente se pusieron a la defensiva al verlo entrar.\n",
      "\n",
      "Con sus habilidades de persuasión, Jake logró calmar los ánimos y convencer a los presentes de que colaboraran con la investigación. Pronto descubrió que el empresario asesinado había estado involucrado en negocios turbios con unos mafiosos locales, lo que le dio una pista sólida sobre el posible autor del crimen.\n",
      "\n",
      "Decidido a atrapar al culpable, Jake se adentró en el mundo de la mafia local, usando sus habilidades de persuasión para convencer a los miembros de revelar información crucial. Con astucia y determinación, el detective logró desenmascarar al verdadero asesino y llevarlo ante la justicia.\n",
      "\n",
      "La ciudad entera celebró la resolución del caso, agradeciendo a Jake White por su valentía y habilidad para resolver crímenes. El detective blanco y alto siguió trabajando incansablemente para proteger a los habitantes de la ciudad, demostrando una vez más que sus capacidades no tenían límites.\n"
     ]
    },
    {
     "name": "stdin",
     "output_type": "stream",
     "text": [
      "¿Desea agregar algún parámetro más? (S/N):  S\n",
      "Agrega parámetros para personajes o para la historia:   El detective tiene 2 ayudantes, uno servicial y otro más impulsivo\n"
     ]
    },
    {
     "name": "stdout",
     "output_type": "stream",
     "text": [
      "________________________________________________________________________________\n",
      "El detective es un hombre de mediana edad, con una mirada penetrante y una actitud calmada en todo momento. Su ayudante servicial es una mujer joven, inteligente y detallista, siempre dispuesta a ayudar en lo que sea necesario. Por otro lado, el ayudante impulsivo es un hombre joven, con demasiada energía y ansias de resolver los casos rápidamente, aunque a veces sus métodos pueden causar conflictos. Juntos forman un equipo equilibrado, complementándose entre sí para resolver los casos más complicados.\n"
     ]
    },
    {
     "name": "stdin",
     "output_type": "stream",
     "text": [
      "¿Desea agregar algún parámetro más? (S/N):  s\n",
      "Agrega parámetros para personajes o para la historia:  Dame los nombres de los 3 personajes\n"
     ]
    },
    {
     "name": "stdout",
     "output_type": "stream",
     "text": [
      "________________________________________________________________________________\n",
      "1. John White\n",
      "2. Detective Benjamin Stone\n",
      "3. Alex Powers\n"
     ]
    },
    {
     "name": "stdin",
     "output_type": "stream",
     "text": [
      "¿Desea agregar algún parámetro más? (S/N):  s\n",
      "Agrega parámetros para personajes o para la historia:  Los villanos principalmente son parte de una organización criminal que busca tomar el poder del pueblo por medio de la extorsión\n"
     ]
    },
    {
     "name": "stdout",
     "output_type": "stream",
     "text": [
      "________________________________________________________________________________\n",
      " y el crimen organizado. Son expertos en tácticas de intimidación y chantaje, y utilizan la violencia como medio para alcanzar sus objetivos.\n",
      "\n",
      "El personaje principal, a pesar de enfrentarse a esta poderosa organización criminal, no se deja intimidar y utiliza sus habilidades de persuasión para desmantelar sus operaciones. Utiliza su agudo ingenio y su capacidad para resolver casos complicados para desenmascarar a los villanos y llevarlos ante la justicia.\n",
      "\n",
      "A lo largo de la historia, el personaje principal se enfrenta a numerosos desafíos y peligros, pero siempre logra salir adelante gracias a su determinación y habilidades excepcionales. Su lucha contra la organización criminal se convierte en una batalla de ingenio y astucia, donde cada movimiento es crucial para alcanzar la victoria final.\n",
      "\n",
      "A medida que avanza la trama, el personaje principal descubre que detrás de la organización criminal hay figuras poderosas y corruptas que buscan mantener su control sobre la ciudad a toda costa. Con valentía y determinación, el protagonista se enfrenta a estos enemigos poderosos y lucha por la justicia y la verdad.\n",
      "\n",
      "Finalmente, gracias a su habilidad para resolver casos y su determinación para luchar contra la corrupción, el personaje principal logra desmantelar la organización criminal y llevar a los culpables ante la justicia. Su valentía y su compromiso con la verdad lo convierten en un héroe para el pueblo, y su legado perdura mucho tiempo después de haber resuelto el caso.\n"
     ]
    },
    {
     "name": "stdin",
     "output_type": "stream",
     "text": [
      "¿Desea agregar algún parámetro más? (S/N):  S\n",
      "Agrega parámetros para personajes o para la historia:  Nombre de 5 villanos\n"
     ]
    },
    {
     "name": "stdout",
     "output_type": "stream",
     "text": [
      "________________________________________________________________________________\n",
      "1. El Sombrío: un criminal maestro del disfraz y la manipulación\n",
      "2. La Víbora: una estafadora experta en engañar a sus víctimas\n",
      "3. El Enigma: un hacker genio que realiza ciberataques a gran escala\n",
      "4. La Araña Negra: una asesina a sueldo experta en combate cuerpo a cuerpo\n",
      "5. El Fantasma: un ladrón astuto que nunca deja rastro de sus crímenes\n"
     ]
    },
    {
     "name": "stdin",
     "output_type": "stream",
     "text": [
      "¿Desea agregar algún parámetro más? (S/N):  n\n"
     ]
    },
    {
     "name": "stdout",
     "output_type": "stream",
     "text": [
      "Gracias por usar el Generador de Comics\n"
     ]
    }
   ],
   "source": [
    "personaje = input(\"Describe las caracteristicas esenciales del personaje principal:\")\n",
    "\n",
    "# Ciclo para agregar parametros a personajes o historia\n",
    "while True:\n",
    "    parametro = input(\"Agrega parámetros para personajes o para la historia: \")\n",
    "\n",
    "    one_shot_prompt = f\"{personaje}\\nUsuario: {parametro}\"\n",
    "\n",
    "    prompt = [\n",
    "        {\"role\":\"user\",\"content\":one_shot_prompt}\n",
    "        ]\n",
    "\n",
    "    response = openai.ChatCompletion.create(\n",
    "        model='gpt-3.5-turbo',\n",
    "        messages=prompt,\n",
    "        max_tokens=500\n",
    "    )\n",
    "\n",
    "    # Obtiene y muestra la respuesta del modelo\n",
    "    print(\"_\"*80)\n",
    "    #message = response.choices[0]['message']\n",
    "    print(response.choices[0].message.content)\n",
    "    #print(\"{}\".format(message['content']))\n",
    "\n",
    "    nuevo_param = input(\"¿Desea agregar algún parámetro más? (S/N): \").lower()\n",
    "\n",
    "    if nuevo_param != 's':\n",
    "        print(\"Gracias por usar el Generador de Comics\")\n",
    "        break"
   ]
  },
  {
   "cell_type": "code",
   "execution_count": null,
   "id": "253651d2-5cdd-4a53-9029-b96b2d941a60",
   "metadata": {},
   "outputs": [],
   "source": []
  }
 ],
 "metadata": {
  "kernelspec": {
   "display_name": "Python 3 (ipykernel)",
   "language": "python",
   "name": "python3"
  },
  "language_info": {
   "codemirror_mode": {
    "name": "ipython",
    "version": 3
   },
   "file_extension": ".py",
   "mimetype": "text/x-python",
   "name": "python",
   "nbconvert_exporter": "python",
   "pygments_lexer": "ipython3",
   "version": "3.11.7"
  }
 },
 "nbformat": 4,
 "nbformat_minor": 5
}
